version https://git-lfs.github.com/spec/v1
oid sha256:f0e085d2a6f529d67afc2630a34cb402e3c16e146ed6836d8881306e8b2503c2
size 23982463
